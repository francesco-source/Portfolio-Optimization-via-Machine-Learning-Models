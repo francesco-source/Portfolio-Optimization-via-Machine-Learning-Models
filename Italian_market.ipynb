{
 "cells": [
  {
   "cell_type": "markdown",
   "metadata": {
    "pycharm": {
     "name": "#%% md\n"
    }
   },
   "source": [
    "# Italian market portfolio optimization"
   ]
  },
  {
   "cell_type": "code",
   "execution_count": 1,
   "metadata": {
    "pycharm": {
     "name": "#%%\n"
    }
   },
   "outputs": [],
   "source": [
    "%load_ext autoreload\n",
    "%autoreload 2\n",
    "import matplotlib.pyplot as plt\n",
    "import pandas as pd\n",
    "import numpy as np\n",
    "import warnings\n",
    "from utils import *\n",
    "from Dataset.datasets import *\n",
    "from Dataset.aggregation import *\n",
    "from Dataset.metrics import *\n",
    "from Optimization.clustering import *\n",
    "from Optimization.portfolio_opt import *\n",
    "from Evaluation.evaluate import *\n",
    "from Evaluation.Plot_results import *\n",
    "warnings.filterwarnings('ignore')"
   ]
  },
  {
   "cell_type": "markdown",
   "metadata": {},
   "source": [
    "### Dates for training and evaluation"
   ]
  },
  {
   "cell_type": "code",
   "execution_count": 2,
   "metadata": {},
   "outputs": [],
   "source": [
    "start_date_train = '2006-06-01'\n",
    "end_date_train = '2016-01-01'\n",
    "\n",
    "start_date_validation = '2016-01-01'\n",
    "end_date_validation = '2024-01-23'\n"
   ]
  },
  {
   "cell_type": "markdown",
   "metadata": {},
   "source": [
    "## Dataset preparation"
   ]
  },
  {
   "cell_type": "code",
   "execution_count": 3,
   "metadata": {
    "pycharm": {
     "name": "#%%\n"
    }
   },
   "outputs": [
    {
     "name": "stdout",
     "output_type": "stream",
     "text": [
      "[*********************100%%**********************]  365 of 365 completed"
     ]
    },
    {
     "name": "stderr",
     "output_type": "stream",
     "text": [
      "\n",
      "72 Failed downloads:\n",
      "['VTY.MI', 'BOR.MI', 'FKR.MI', 'SEB.MI', 'MAIL.MI', 'PAN.MI', 'TTT.MI', 'ROS.MI', 'SICT.MI', 'GCL.MI', 'ACS.MI', 'NET.MI', 'AMM.MI', 'CERV.MI', 'BCM.MI', 'SITI.MI', 'EMC.MI', 'BDBR.MI', 'BFE.MI', 'EXSY.MI', 'WMC.MI', 'DIG.MI', 'MS.MI', 'MOLD.MI', 'REEVO.MI', 'BLUE.MI', 'YIV.MI', 'PSA.MI', 'BIM.MI', 'IKG.MI', 'EC.MI', 'FNL.MI', 'LD.MI', 'ASR.MI', 'AT.MI', 'TAS.MI', 'TIS.MI', 'DEA.MI', 'LBM.MI', 'PSF.MI', 'ISG.MI', 'ISGS.MI', 'COV.MI', 'ATL.MI', 'ATH.MI', 'MT.MI', 'AST.MI', 'AGL.MI', 'AED.MI', 'CVAL.MI', 'FAR.MI', 'PRI.MI', 'KIP.MI', 'FUL.MI', 'CRES.MI', 'BEST.MI', 'SOU.MI', 'ELIN.MI', 'ASSI.MI', 'FED.MI', 'FHR.MI', 'KI.MI', 'EVS.MI', 'PLT.MI', 'ESI.MI', 'PITE.MI', 'CARR.MI', 'LIT.MI', 'SIO.MI', 'SGR.MI', 'RM.MI']: Exception('%ticker%: No timezone found, symbol may be delisted')\n",
      "['EPR.MI']: Exception('%ticker%: No data found, symbol may be delisted')\n"
     ]
    },
    {
     "name": "stdout",
     "output_type": "stream",
     "text": [
      "\n"
     ]
    }
   ],
   "source": [
    "df = download_stock_data(market_country ='IT', start_date = '2006-01-01',)"
   ]
  },
  {
   "cell_type": "code",
   "execution_count": 4,
   "metadata": {
    "pycharm": {
     "name": "#%%\n"
    }
   },
   "outputs": [
    {
     "data": {
      "text/html": [
       "<div>\n",
       "<style scoped>\n",
       "    .dataframe tbody tr th:only-of-type {\n",
       "        vertical-align: middle;\n",
       "    }\n",
       "\n",
       "    .dataframe tbody tr th {\n",
       "        vertical-align: top;\n",
       "    }\n",
       "\n",
       "    .dataframe thead th {\n",
       "        text-align: right;\n",
       "    }\n",
       "</style>\n",
       "<table border=\"1\" class=\"dataframe\">\n",
       "  <thead>\n",
       "    <tr style=\"text-align: right;\">\n",
       "      <th></th>\n",
       "      <th></th>\n",
       "      <th>adj close</th>\n",
       "      <th>close</th>\n",
       "      <th>high</th>\n",
       "      <th>low</th>\n",
       "      <th>open</th>\n",
       "      <th>volume</th>\n",
       "    </tr>\n",
       "    <tr>\n",
       "      <th>date</th>\n",
       "      <th>ticker</th>\n",
       "      <th></th>\n",
       "      <th></th>\n",
       "      <th></th>\n",
       "      <th></th>\n",
       "      <th></th>\n",
       "      <th></th>\n",
       "    </tr>\n",
       "  </thead>\n",
       "  <tbody>\n",
       "    <tr>\n",
       "      <th rowspan=\"5\" valign=\"top\">2006-01-02</th>\n",
       "      <th>A2A.MI</th>\n",
       "      <td>0.696583</td>\n",
       "      <td>1.621000</td>\n",
       "      <td>1.623000</td>\n",
       "      <td>1.605000</td>\n",
       "      <td>1.605000</td>\n",
       "      <td>1282006.0</td>\n",
       "    </tr>\n",
       "    <tr>\n",
       "      <th>ACE.MI</th>\n",
       "      <td>3.695695</td>\n",
       "      <td>8.360000</td>\n",
       "      <td>8.420000</td>\n",
       "      <td>8.350000</td>\n",
       "      <td>8.420000</td>\n",
       "      <td>35926.0</td>\n",
       "    </tr>\n",
       "    <tr>\n",
       "      <th>AMP.MI</th>\n",
       "      <td>4.782181</td>\n",
       "      <td>5.672000</td>\n",
       "      <td>5.734000</td>\n",
       "      <td>5.655000</td>\n",
       "      <td>5.700000</td>\n",
       "      <td>27050.0</td>\n",
       "    </tr>\n",
       "    <tr>\n",
       "      <th>ARN.MI</th>\n",
       "      <td>3.309356</td>\n",
       "      <td>4.445000</td>\n",
       "      <td>4.495000</td>\n",
       "      <td>4.400000</td>\n",
       "      <td>4.455000</td>\n",
       "      <td>27939.0</td>\n",
       "    </tr>\n",
       "    <tr>\n",
       "      <th>AUTME.MI</th>\n",
       "      <td>3.744271</td>\n",
       "      <td>36.990002</td>\n",
       "      <td>36.990002</td>\n",
       "      <td>36.990002</td>\n",
       "      <td>36.990002</td>\n",
       "      <td>902.0</td>\n",
       "    </tr>\n",
       "  </tbody>\n",
       "</table>\n",
       "</div>"
      ],
      "text/plain": [
       "                     adj close      close       high        low       open  \\\n",
       "date       ticker                                                            \n",
       "2006-01-02 A2A.MI     0.696583   1.621000   1.623000   1.605000   1.605000   \n",
       "           ACE.MI     3.695695   8.360000   8.420000   8.350000   8.420000   \n",
       "           AMP.MI     4.782181   5.672000   5.734000   5.655000   5.700000   \n",
       "           ARN.MI     3.309356   4.445000   4.495000   4.400000   4.455000   \n",
       "           AUTME.MI   3.744271  36.990002  36.990002  36.990002  36.990002   \n",
       "\n",
       "                        volume  \n",
       "date       ticker               \n",
       "2006-01-02 A2A.MI    1282006.0  \n",
       "           ACE.MI      35926.0  \n",
       "           AMP.MI      27050.0  \n",
       "           ARN.MI      27939.0  \n",
       "           AUTME.MI      902.0  "
      ]
     },
     "execution_count": 4,
     "metadata": {},
     "output_type": "execute_result"
    }
   ],
   "source": [
    "df.head()"
   ]
  },
  {
   "cell_type": "code",
   "execution_count": 5,
   "metadata": {
    "pycharm": {
     "name": "#%%\n"
    }
   },
   "outputs": [
    {
     "data": {
      "text/html": [
       "<div>\n",
       "<style scoped>\n",
       "    .dataframe tbody tr th:only-of-type {\n",
       "        vertical-align: middle;\n",
       "    }\n",
       "\n",
       "    .dataframe tbody tr th {\n",
       "        vertical-align: top;\n",
       "    }\n",
       "\n",
       "    .dataframe thead th {\n",
       "        text-align: right;\n",
       "    }\n",
       "</style>\n",
       "<table border=\"1\" class=\"dataframe\">\n",
       "  <thead>\n",
       "    <tr style=\"text-align: right;\">\n",
       "      <th></th>\n",
       "      <th></th>\n",
       "      <th>garman_klass_vol</th>\n",
       "      <th>rsi</th>\n",
       "      <th>bb_low</th>\n",
       "      <th>bb_mid</th>\n",
       "      <th>bb_high</th>\n",
       "      <th>atr</th>\n",
       "      <th>macd</th>\n",
       "      <th>dollar_volume</th>\n",
       "    </tr>\n",
       "    <tr>\n",
       "      <th>date</th>\n",
       "      <th>ticker</th>\n",
       "      <th></th>\n",
       "      <th></th>\n",
       "      <th></th>\n",
       "      <th></th>\n",
       "      <th></th>\n",
       "      <th></th>\n",
       "      <th></th>\n",
       "      <th></th>\n",
       "    </tr>\n",
       "  </thead>\n",
       "  <tbody>\n",
       "    <tr>\n",
       "      <th rowspan=\"5\" valign=\"top\">2006-01-02</th>\n",
       "      <th>A2A.MI</th>\n",
       "      <td>-0.269073</td>\n",
       "      <td>NaN</td>\n",
       "      <td>NaN</td>\n",
       "      <td>NaN</td>\n",
       "      <td>NaN</td>\n",
       "      <td>NaN</td>\n",
       "      <td>NaN</td>\n",
       "      <td>0.893024</td>\n",
       "    </tr>\n",
       "    <tr>\n",
       "      <th>ACE.MI</th>\n",
       "      <td>-0.261894</td>\n",
       "      <td>NaN</td>\n",
       "      <td>NaN</td>\n",
       "      <td>NaN</td>\n",
       "      <td>NaN</td>\n",
       "      <td>NaN</td>\n",
       "      <td>NaN</td>\n",
       "      <td>0.132772</td>\n",
       "    </tr>\n",
       "    <tr>\n",
       "      <th>AMP.MI</th>\n",
       "      <td>-0.011811</td>\n",
       "      <td>NaN</td>\n",
       "      <td>NaN</td>\n",
       "      <td>NaN</td>\n",
       "      <td>NaN</td>\n",
       "      <td>NaN</td>\n",
       "      <td>NaN</td>\n",
       "      <td>0.129358</td>\n",
       "    </tr>\n",
       "    <tr>\n",
       "      <th>ARN.MI</th>\n",
       "      <td>-0.033909</td>\n",
       "      <td>NaN</td>\n",
       "      <td>NaN</td>\n",
       "      <td>NaN</td>\n",
       "      <td>NaN</td>\n",
       "      <td>NaN</td>\n",
       "      <td>NaN</td>\n",
       "      <td>0.092460</td>\n",
       "    </tr>\n",
       "    <tr>\n",
       "      <th>AUTME.MI</th>\n",
       "      <td>-2.026511</td>\n",
       "      <td>NaN</td>\n",
       "      <td>NaN</td>\n",
       "      <td>NaN</td>\n",
       "      <td>NaN</td>\n",
       "      <td>NaN</td>\n",
       "      <td>NaN</td>\n",
       "      <td>0.003377</td>\n",
       "    </tr>\n",
       "    <tr>\n",
       "      <th>...</th>\n",
       "      <th>...</th>\n",
       "      <td>...</td>\n",
       "      <td>...</td>\n",
       "      <td>...</td>\n",
       "      <td>...</td>\n",
       "      <td>...</td>\n",
       "      <td>...</td>\n",
       "      <td>...</td>\n",
       "      <td>...</td>\n",
       "    </tr>\n",
       "    <tr>\n",
       "      <th rowspan=\"5\" valign=\"top\">2024-01-25</th>\n",
       "      <th>XPR.MI</th>\n",
       "      <td>0.000000</td>\n",
       "      <td>40.336871</td>\n",
       "      <td>0.955394</td>\n",
       "      <td>0.975565</td>\n",
       "      <td>0.995736</td>\n",
       "      <td>-0.808505</td>\n",
       "      <td>-0.808505</td>\n",
       "      <td>0.000470</td>\n",
       "    </tr>\n",
       "    <tr>\n",
       "      <th>YRM.MI</th>\n",
       "      <td>0.000000</td>\n",
       "      <td>50.801228</td>\n",
       "      <td>3.836196</td>\n",
       "      <td>3.895557</td>\n",
       "      <td>3.954918</td>\n",
       "      <td>3.971708</td>\n",
       "      <td>3.971708</td>\n",
       "      <td>0.000000</td>\n",
       "    </tr>\n",
       "    <tr>\n",
       "      <th>YSFT.MI</th>\n",
       "      <td>0.006188</td>\n",
       "      <td>25.583282</td>\n",
       "      <td>0.459323</td>\n",
       "      <td>0.598796</td>\n",
       "      <td>0.738270</td>\n",
       "      <td>0.101716</td>\n",
       "      <td>0.101716</td>\n",
       "      <td>0.006861</td>\n",
       "    </tr>\n",
       "    <tr>\n",
       "      <th>ZUC.MI</th>\n",
       "      <td>0.000009</td>\n",
       "      <td>49.175472</td>\n",
       "      <td>1.160684</td>\n",
       "      <td>1.188508</td>\n",
       "      <td>1.216333</td>\n",
       "      <td>-0.690234</td>\n",
       "      <td>-0.690234</td>\n",
       "      <td>0.003972</td>\n",
       "    </tr>\n",
       "    <tr>\n",
       "      <th>ZV.MI</th>\n",
       "      <td>0.000041</td>\n",
       "      <td>54.108551</td>\n",
       "      <td>2.655127</td>\n",
       "      <td>2.694099</td>\n",
       "      <td>2.733071</td>\n",
       "      <td>0.897110</td>\n",
       "      <td>0.897110</td>\n",
       "      <td>1.426933</td>\n",
       "    </tr>\n",
       "  </tbody>\n",
       "</table>\n",
       "<p>877130 rows × 8 columns</p>\n",
       "</div>"
      ],
      "text/plain": [
       "                     garman_klass_vol        rsi    bb_low    bb_mid  \\\n",
       "date       ticker                                                      \n",
       "2006-01-02 A2A.MI           -0.269073        NaN       NaN       NaN   \n",
       "           ACE.MI           -0.261894        NaN       NaN       NaN   \n",
       "           AMP.MI           -0.011811        NaN       NaN       NaN   \n",
       "           ARN.MI           -0.033909        NaN       NaN       NaN   \n",
       "           AUTME.MI         -2.026511        NaN       NaN       NaN   \n",
       "...                               ...        ...       ...       ...   \n",
       "2024-01-25 XPR.MI            0.000000  40.336871  0.955394  0.975565   \n",
       "           YRM.MI            0.000000  50.801228  3.836196  3.895557   \n",
       "           YSFT.MI           0.006188  25.583282  0.459323  0.598796   \n",
       "           ZUC.MI            0.000009  49.175472  1.160684  1.188508   \n",
       "           ZV.MI             0.000041  54.108551  2.655127  2.694099   \n",
       "\n",
       "                      bb_high       atr      macd  dollar_volume  \n",
       "date       ticker                                                 \n",
       "2006-01-02 A2A.MI         NaN       NaN       NaN       0.893024  \n",
       "           ACE.MI         NaN       NaN       NaN       0.132772  \n",
       "           AMP.MI         NaN       NaN       NaN       0.129358  \n",
       "           ARN.MI         NaN       NaN       NaN       0.092460  \n",
       "           AUTME.MI       NaN       NaN       NaN       0.003377  \n",
       "...                       ...       ...       ...            ...  \n",
       "2024-01-25 XPR.MI    0.995736 -0.808505 -0.808505       0.000470  \n",
       "           YRM.MI    3.954918  3.971708  3.971708       0.000000  \n",
       "           YSFT.MI   0.738270  0.101716  0.101716       0.006861  \n",
       "           ZUC.MI    1.216333 -0.690234 -0.690234       0.003972  \n",
       "           ZV.MI     2.733071  0.897110  0.897110       1.426933  \n",
       "\n",
       "[877130 rows x 8 columns]"
      ]
     },
     "execution_count": 5,
     "metadata": {},
     "output_type": "execute_result"
    }
   ],
   "source": [
    "stock_measures = StockMeasures(df)\n",
    "stock_measures.calculate_measures('all')\n",
    "stock_measures.measures"
   ]
  },
  {
   "cell_type": "markdown",
   "metadata": {
    "pycharm": {
     "name": "#%% md\n"
    }
   },
   "source": [
    "Now we add to the feature dataframe the columns of adjusted close and volume. "
   ]
  },
  {
   "cell_type": "code",
   "execution_count": 6,
   "metadata": {
    "pycharm": {
     "name": "#%%\n"
    }
   },
   "outputs": [
    {
     "data": {
      "text/html": [
       "<div>\n",
       "<style scoped>\n",
       "    .dataframe tbody tr th:only-of-type {\n",
       "        vertical-align: middle;\n",
       "    }\n",
       "\n",
       "    .dataframe tbody tr th {\n",
       "        vertical-align: top;\n",
       "    }\n",
       "\n",
       "    .dataframe thead th {\n",
       "        text-align: right;\n",
       "    }\n",
       "</style>\n",
       "<table border=\"1\" class=\"dataframe\">\n",
       "  <thead>\n",
       "    <tr style=\"text-align: right;\">\n",
       "      <th></th>\n",
       "      <th></th>\n",
       "      <th>garman_klass_vol</th>\n",
       "      <th>rsi</th>\n",
       "      <th>bb_low</th>\n",
       "      <th>bb_mid</th>\n",
       "      <th>bb_high</th>\n",
       "      <th>atr</th>\n",
       "      <th>macd</th>\n",
       "      <th>dollar_volume</th>\n",
       "      <th>adj close</th>\n",
       "    </tr>\n",
       "    <tr>\n",
       "      <th>date</th>\n",
       "      <th>ticker</th>\n",
       "      <th></th>\n",
       "      <th></th>\n",
       "      <th></th>\n",
       "      <th></th>\n",
       "      <th></th>\n",
       "      <th></th>\n",
       "      <th></th>\n",
       "      <th></th>\n",
       "      <th></th>\n",
       "    </tr>\n",
       "  </thead>\n",
       "  <tbody>\n",
       "    <tr>\n",
       "      <th rowspan=\"5\" valign=\"top\">2006-01-02</th>\n",
       "      <th>A2A.MI</th>\n",
       "      <td>-0.269073</td>\n",
       "      <td>NaN</td>\n",
       "      <td>NaN</td>\n",
       "      <td>NaN</td>\n",
       "      <td>NaN</td>\n",
       "      <td>NaN</td>\n",
       "      <td>NaN</td>\n",
       "      <td>0.893024</td>\n",
       "      <td>0.696583</td>\n",
       "    </tr>\n",
       "    <tr>\n",
       "      <th>ACE.MI</th>\n",
       "      <td>-0.261894</td>\n",
       "      <td>NaN</td>\n",
       "      <td>NaN</td>\n",
       "      <td>NaN</td>\n",
       "      <td>NaN</td>\n",
       "      <td>NaN</td>\n",
       "      <td>NaN</td>\n",
       "      <td>0.132772</td>\n",
       "      <td>3.695695</td>\n",
       "    </tr>\n",
       "    <tr>\n",
       "      <th>AMP.MI</th>\n",
       "      <td>-0.011811</td>\n",
       "      <td>NaN</td>\n",
       "      <td>NaN</td>\n",
       "      <td>NaN</td>\n",
       "      <td>NaN</td>\n",
       "      <td>NaN</td>\n",
       "      <td>NaN</td>\n",
       "      <td>0.129358</td>\n",
       "      <td>4.782181</td>\n",
       "    </tr>\n",
       "    <tr>\n",
       "      <th>ARN.MI</th>\n",
       "      <td>-0.033909</td>\n",
       "      <td>NaN</td>\n",
       "      <td>NaN</td>\n",
       "      <td>NaN</td>\n",
       "      <td>NaN</td>\n",
       "      <td>NaN</td>\n",
       "      <td>NaN</td>\n",
       "      <td>0.092460</td>\n",
       "      <td>3.309356</td>\n",
       "    </tr>\n",
       "    <tr>\n",
       "      <th>AUTME.MI</th>\n",
       "      <td>-2.026511</td>\n",
       "      <td>NaN</td>\n",
       "      <td>NaN</td>\n",
       "      <td>NaN</td>\n",
       "      <td>NaN</td>\n",
       "      <td>NaN</td>\n",
       "      <td>NaN</td>\n",
       "      <td>0.003377</td>\n",
       "      <td>3.744271</td>\n",
       "    </tr>\n",
       "  </tbody>\n",
       "</table>\n",
       "</div>"
      ],
      "text/plain": [
       "                     garman_klass_vol  rsi  bb_low  bb_mid  bb_high  atr  \\\n",
       "date       ticker                                                          \n",
       "2006-01-02 A2A.MI           -0.269073  NaN     NaN     NaN      NaN  NaN   \n",
       "           ACE.MI           -0.261894  NaN     NaN     NaN      NaN  NaN   \n",
       "           AMP.MI           -0.011811  NaN     NaN     NaN      NaN  NaN   \n",
       "           ARN.MI           -0.033909  NaN     NaN     NaN      NaN  NaN   \n",
       "           AUTME.MI         -2.026511  NaN     NaN     NaN      NaN  NaN   \n",
       "\n",
       "                     macd  dollar_volume  adj close  \n",
       "date       ticker                                    \n",
       "2006-01-02 A2A.MI     NaN       0.893024   0.696583  \n",
       "           ACE.MI     NaN       0.132772   3.695695  \n",
       "           AMP.MI     NaN       0.129358   4.782181  \n",
       "           ARN.MI     NaN       0.092460   3.309356  \n",
       "           AUTME.MI   NaN       0.003377   3.744271  "
      ]
     },
     "execution_count": 6,
     "metadata": {},
     "output_type": "execute_result"
    }
   ],
   "source": [
    "data_fit = stock_measures.measures.copy()\n",
    "data_fit[\"adj close\"] = df[\"adj close\"]\n",
    "data_fit.head()"
   ]
  },
  {
   "cell_type": "code",
   "execution_count": 7,
   "metadata": {
    "pycharm": {
     "name": "#%%\n"
    }
   },
   "outputs": [
    {
     "data": {
      "text/html": [
       "<div>\n",
       "<style scoped>\n",
       "    .dataframe tbody tr th:only-of-type {\n",
       "        vertical-align: middle;\n",
       "    }\n",
       "\n",
       "    .dataframe tbody tr th {\n",
       "        vertical-align: top;\n",
       "    }\n",
       "\n",
       "    .dataframe thead th {\n",
       "        text-align: right;\n",
       "    }\n",
       "</style>\n",
       "<table border=\"1\" class=\"dataframe\">\n",
       "  <thead>\n",
       "    <tr style=\"text-align: right;\">\n",
       "      <th></th>\n",
       "      <th></th>\n",
       "      <th>dollar_volume</th>\n",
       "      <th>garman_klass_vol</th>\n",
       "      <th>rsi</th>\n",
       "      <th>bb_low</th>\n",
       "      <th>bb_mid</th>\n",
       "      <th>bb_high</th>\n",
       "      <th>atr</th>\n",
       "      <th>macd</th>\n",
       "      <th>adj close</th>\n",
       "    </tr>\n",
       "    <tr>\n",
       "      <th>date</th>\n",
       "      <th>ticker</th>\n",
       "      <th></th>\n",
       "      <th></th>\n",
       "      <th></th>\n",
       "      <th></th>\n",
       "      <th></th>\n",
       "      <th></th>\n",
       "      <th></th>\n",
       "      <th></th>\n",
       "      <th></th>\n",
       "    </tr>\n",
       "  </thead>\n",
       "  <tbody>\n",
       "    <tr>\n",
       "      <th rowspan=\"5\" valign=\"top\">2006-01-31</th>\n",
       "      <th>A2A.MI</th>\n",
       "      <td>6.564256</td>\n",
       "      <td>-0.281299</td>\n",
       "      <td>68.447681</td>\n",
       "      <td>0.531751</td>\n",
       "      <td>0.555987</td>\n",
       "      <td>0.580222</td>\n",
       "      <td>0.355378</td>\n",
       "      <td>0.355378</td>\n",
       "      <td>0.758034</td>\n",
       "    </tr>\n",
       "    <tr>\n",
       "      <th>ACE.MI</th>\n",
       "      <td>1.336650</td>\n",
       "      <td>-0.266184</td>\n",
       "      <td>69.242976</td>\n",
       "      <td>1.533501</td>\n",
       "      <td>1.591325</td>\n",
       "      <td>1.649148</td>\n",
       "      <td>-0.624029</td>\n",
       "      <td>-0.624029</td>\n",
       "      <td>4.095768</td>\n",
       "    </tr>\n",
       "    <tr>\n",
       "      <th>AMP.MI</th>\n",
       "      <td>1.261794</td>\n",
       "      <td>-0.010416</td>\n",
       "      <td>56.781371</td>\n",
       "      <td>1.727890</td>\n",
       "      <td>1.783577</td>\n",
       "      <td>1.839265</td>\n",
       "      <td>-0.430862</td>\n",
       "      <td>-0.430862</td>\n",
       "      <td>5.015726</td>\n",
       "    </tr>\n",
       "    <tr>\n",
       "      <th>ARN.MI</th>\n",
       "      <td>0.235062</td>\n",
       "      <td>-0.028835</td>\n",
       "      <td>73.338652</td>\n",
       "      <td>1.456203</td>\n",
       "      <td>1.476802</td>\n",
       "      <td>1.497401</td>\n",
       "      <td>-0.523977</td>\n",
       "      <td>-0.523977</td>\n",
       "      <td>3.536433</td>\n",
       "    </tr>\n",
       "    <tr>\n",
       "      <th>AUTME.MI</th>\n",
       "      <td>0.003695</td>\n",
       "      <td>-2.026510</td>\n",
       "      <td>44.252643</td>\n",
       "      <td>1.517322</td>\n",
       "      <td>1.536350</td>\n",
       "      <td>1.555378</td>\n",
       "      <td>-0.676550</td>\n",
       "      <td>-0.676550</td>\n",
       "      <td>3.633938</td>\n",
       "    </tr>\n",
       "    <tr>\n",
       "      <th>...</th>\n",
       "      <th>...</th>\n",
       "      <td>...</td>\n",
       "      <td>...</td>\n",
       "      <td>...</td>\n",
       "      <td>...</td>\n",
       "      <td>...</td>\n",
       "      <td>...</td>\n",
       "      <td>...</td>\n",
       "      <td>...</td>\n",
       "      <td>...</td>\n",
       "    </tr>\n",
       "    <tr>\n",
       "      <th rowspan=\"5\" valign=\"top\">2024-01-31</th>\n",
       "      <th>VNT.MI</th>\n",
       "      <td>0.024250</td>\n",
       "      <td>0.000770</td>\n",
       "      <td>54.350291</td>\n",
       "      <td>1.195978</td>\n",
       "      <td>1.226158</td>\n",
       "      <td>1.256338</td>\n",
       "      <td>-1.319141</td>\n",
       "      <td>-1.319141</td>\n",
       "      <td>2.400000</td>\n",
       "    </tr>\n",
       "    <tr>\n",
       "      <th>PHIL.MI</th>\n",
       "      <td>0.144874</td>\n",
       "      <td>0.000061</td>\n",
       "      <td>45.963677</td>\n",
       "      <td>2.885115</td>\n",
       "      <td>2.934745</td>\n",
       "      <td>2.984376</td>\n",
       "      <td>0.218903</td>\n",
       "      <td>0.218903</td>\n",
       "      <td>17.500000</td>\n",
       "    </tr>\n",
       "    <tr>\n",
       "      <th>AIW.MI</th>\n",
       "      <td>0.050772</td>\n",
       "      <td>0.001554</td>\n",
       "      <td>54.903855</td>\n",
       "      <td>1.594595</td>\n",
       "      <td>1.621179</td>\n",
       "      <td>1.647764</td>\n",
       "      <td>-0.736439</td>\n",
       "      <td>-0.736439</td>\n",
       "      <td>4.130000</td>\n",
       "    </tr>\n",
       "    <tr>\n",
       "      <th>CASA.MI</th>\n",
       "      <td>0.004713</td>\n",
       "      <td>0.002251</td>\n",
       "      <td>57.764706</td>\n",
       "      <td>0.533020</td>\n",
       "      <td>0.555972</td>\n",
       "      <td>0.578923</td>\n",
       "      <td>-0.646426</td>\n",
       "      <td>-0.646426</td>\n",
       "      <td>0.810000</td>\n",
       "    </tr>\n",
       "    <tr>\n",
       "      <th>ABP.MI</th>\n",
       "      <td>0.014561</td>\n",
       "      <td>0.000000</td>\n",
       "      <td>60.657374</td>\n",
       "      <td>1.594432</td>\n",
       "      <td>1.611201</td>\n",
       "      <td>1.627970</td>\n",
       "      <td>-1.184815</td>\n",
       "      <td>-1.184815</td>\n",
       "      <td>4.100000</td>\n",
       "    </tr>\n",
       "  </tbody>\n",
       "</table>\n",
       "<p>41435 rows × 9 columns</p>\n",
       "</div>"
      ],
      "text/plain": [
       "                     dollar_volume  garman_klass_vol        rsi    bb_low  \\\n",
       "date       ticker                                                           \n",
       "2006-01-31 A2A.MI         6.564256         -0.281299  68.447681  0.531751   \n",
       "           ACE.MI         1.336650         -0.266184  69.242976  1.533501   \n",
       "           AMP.MI         1.261794         -0.010416  56.781371  1.727890   \n",
       "           ARN.MI         0.235062         -0.028835  73.338652  1.456203   \n",
       "           AUTME.MI       0.003695         -2.026510  44.252643  1.517322   \n",
       "...                            ...               ...        ...       ...   \n",
       "2024-01-31 VNT.MI         0.024250          0.000770  54.350291  1.195978   \n",
       "           PHIL.MI        0.144874          0.000061  45.963677  2.885115   \n",
       "           AIW.MI         0.050772          0.001554  54.903855  1.594595   \n",
       "           CASA.MI        0.004713          0.002251  57.764706  0.533020   \n",
       "           ABP.MI         0.014561          0.000000  60.657374  1.594432   \n",
       "\n",
       "                       bb_mid   bb_high       atr      macd  adj close  \n",
       "date       ticker                                                       \n",
       "2006-01-31 A2A.MI    0.555987  0.580222  0.355378  0.355378   0.758034  \n",
       "           ACE.MI    1.591325  1.649148 -0.624029 -0.624029   4.095768  \n",
       "           AMP.MI    1.783577  1.839265 -0.430862 -0.430862   5.015726  \n",
       "           ARN.MI    1.476802  1.497401 -0.523977 -0.523977   3.536433  \n",
       "           AUTME.MI  1.536350  1.555378 -0.676550 -0.676550   3.633938  \n",
       "...                       ...       ...       ...       ...        ...  \n",
       "2024-01-31 VNT.MI    1.226158  1.256338 -1.319141 -1.319141   2.400000  \n",
       "           PHIL.MI   2.934745  2.984376  0.218903  0.218903  17.500000  \n",
       "           AIW.MI    1.621179  1.647764 -0.736439 -0.736439   4.130000  \n",
       "           CASA.MI   0.555972  0.578923 -0.646426 -0.646426   0.810000  \n",
       "           ABP.MI    1.611201  1.627970 -1.184815 -1.184815   4.100000  \n",
       "\n",
       "[41435 rows x 9 columns]"
      ]
     },
     "execution_count": 7,
     "metadata": {},
     "output_type": "execute_result"
    }
   ],
   "source": [
    "data = aggregate_data_by_timestep(data_fit, timestep = \"M\")\n",
    "data"
   ]
  },
  {
   "cell_type": "code",
   "execution_count": 8,
   "metadata": {
    "pycharm": {
     "name": "#%%\n"
    }
   },
   "outputs": [
    {
     "data": {
      "text/html": [
       "<div>\n",
       "<style scoped>\n",
       "    .dataframe tbody tr th:only-of-type {\n",
       "        vertical-align: middle;\n",
       "    }\n",
       "\n",
       "    .dataframe tbody tr th {\n",
       "        vertical-align: top;\n",
       "    }\n",
       "\n",
       "    .dataframe thead th {\n",
       "        text-align: right;\n",
       "    }\n",
       "</style>\n",
       "<table border=\"1\" class=\"dataframe\">\n",
       "  <thead>\n",
       "    <tr style=\"text-align: right;\">\n",
       "      <th></th>\n",
       "      <th></th>\n",
       "      <th>garman_klass_vol</th>\n",
       "      <th>rsi</th>\n",
       "      <th>bb_low</th>\n",
       "      <th>bb_mid</th>\n",
       "      <th>bb_high</th>\n",
       "      <th>atr</th>\n",
       "      <th>macd</th>\n",
       "      <th>adj close</th>\n",
       "    </tr>\n",
       "    <tr>\n",
       "      <th>date</th>\n",
       "      <th>ticker</th>\n",
       "      <th></th>\n",
       "      <th></th>\n",
       "      <th></th>\n",
       "      <th></th>\n",
       "      <th></th>\n",
       "      <th></th>\n",
       "      <th></th>\n",
       "      <th></th>\n",
       "    </tr>\n",
       "  </thead>\n",
       "  <tbody>\n",
       "    <tr>\n",
       "      <th rowspan=\"5\" valign=\"top\">2006-12-31</th>\n",
       "      <th>A2A.MI</th>\n",
       "      <td>-0.244738</td>\n",
       "      <td>65.647459</td>\n",
       "      <td>0.719875</td>\n",
       "      <td>0.740193</td>\n",
       "      <td>0.760511</td>\n",
       "      <td>1.332018</td>\n",
       "      <td>1.332018</td>\n",
       "      <td>1.126131</td>\n",
       "    </tr>\n",
       "    <tr>\n",
       "      <th>ACE.MI</th>\n",
       "      <td>-0.235341</td>\n",
       "      <td>53.243934</td>\n",
       "      <td>2.032105</td>\n",
       "      <td>2.055253</td>\n",
       "      <td>2.078401</td>\n",
       "      <td>-0.373498</td>\n",
       "      <td>-0.373498</td>\n",
       "      <td>6.715508</td>\n",
       "    </tr>\n",
       "    <tr>\n",
       "      <th>AMP.MI</th>\n",
       "      <td>-0.006425</td>\n",
       "      <td>57.412391</td>\n",
       "      <td>1.800916</td>\n",
       "      <td>1.853934</td>\n",
       "      <td>1.906952</td>\n",
       "      <td>-0.546965</td>\n",
       "      <td>-0.546965</td>\n",
       "      <td>5.617353</td>\n",
       "    </tr>\n",
       "    <tr>\n",
       "      <th>ARN.MI</th>\n",
       "      <td>-0.034871</td>\n",
       "      <td>54.236031</td>\n",
       "      <td>1.508083</td>\n",
       "      <td>1.525390</td>\n",
       "      <td>1.542697</td>\n",
       "      <td>-0.413924</td>\n",
       "      <td>-0.413924</td>\n",
       "      <td>3.551322</td>\n",
       "    </tr>\n",
       "    <tr>\n",
       "      <th>AUTME.MI</th>\n",
       "      <td>-1.992936</td>\n",
       "      <td>35.824545</td>\n",
       "      <td>1.441339</td>\n",
       "      <td>1.472656</td>\n",
       "      <td>1.503973</td>\n",
       "      <td>-0.837413</td>\n",
       "      <td>-0.837413</td>\n",
       "      <td>3.310748</td>\n",
       "    </tr>\n",
       "    <tr>\n",
       "      <th>...</th>\n",
       "      <th>...</th>\n",
       "      <td>...</td>\n",
       "      <td>...</td>\n",
       "      <td>...</td>\n",
       "      <td>...</td>\n",
       "      <td>...</td>\n",
       "      <td>...</td>\n",
       "      <td>...</td>\n",
       "      <td>...</td>\n",
       "    </tr>\n",
       "    <tr>\n",
       "      <th rowspan=\"5\" valign=\"top\">2024-01-31</th>\n",
       "      <th>GVS.MI</th>\n",
       "      <td>0.000427</td>\n",
       "      <td>50.741327</td>\n",
       "      <td>1.816812</td>\n",
       "      <td>1.859848</td>\n",
       "      <td>1.902883</td>\n",
       "      <td>-1.439567</td>\n",
       "      <td>-1.439567</td>\n",
       "      <td>5.360000</td>\n",
       "    </tr>\n",
       "    <tr>\n",
       "      <th>CY4.MI</th>\n",
       "      <td>0.000010</td>\n",
       "      <td>40.534355</td>\n",
       "      <td>2.099919</td>\n",
       "      <td>2.172725</td>\n",
       "      <td>2.245530</td>\n",
       "      <td>-1.384139</td>\n",
       "      <td>-1.384139</td>\n",
       "      <td>7.460000</td>\n",
       "    </tr>\n",
       "    <tr>\n",
       "      <th>CML.MI</th>\n",
       "      <td>0.000198</td>\n",
       "      <td>56.316944</td>\n",
       "      <td>1.481689</td>\n",
       "      <td>1.506552</td>\n",
       "      <td>1.531416</td>\n",
       "      <td>-0.521103</td>\n",
       "      <td>-0.521103</td>\n",
       "      <td>3.550000</td>\n",
       "    </tr>\n",
       "    <tr>\n",
       "      <th>VNT.MI</th>\n",
       "      <td>0.000770</td>\n",
       "      <td>54.350291</td>\n",
       "      <td>1.195978</td>\n",
       "      <td>1.226158</td>\n",
       "      <td>1.256338</td>\n",
       "      <td>-1.319141</td>\n",
       "      <td>-1.319141</td>\n",
       "      <td>2.400000</td>\n",
       "    </tr>\n",
       "    <tr>\n",
       "      <th>PHIL.MI</th>\n",
       "      <td>0.000061</td>\n",
       "      <td>45.963677</td>\n",
       "      <td>2.885115</td>\n",
       "      <td>2.934745</td>\n",
       "      <td>2.984376</td>\n",
       "      <td>0.218903</td>\n",
       "      <td>0.218903</td>\n",
       "      <td>17.500000</td>\n",
       "    </tr>\n",
       "  </tbody>\n",
       "</table>\n",
       "<p>29181 rows × 8 columns</p>\n",
       "</div>"
      ],
      "text/plain": [
       "                     garman_klass_vol        rsi    bb_low    bb_mid  \\\n",
       "date       ticker                                                      \n",
       "2006-12-31 A2A.MI           -0.244738  65.647459  0.719875  0.740193   \n",
       "           ACE.MI           -0.235341  53.243934  2.032105  2.055253   \n",
       "           AMP.MI           -0.006425  57.412391  1.800916  1.853934   \n",
       "           ARN.MI           -0.034871  54.236031  1.508083  1.525390   \n",
       "           AUTME.MI         -1.992936  35.824545  1.441339  1.472656   \n",
       "...                               ...        ...       ...       ...   \n",
       "2024-01-31 GVS.MI            0.000427  50.741327  1.816812  1.859848   \n",
       "           CY4.MI            0.000010  40.534355  2.099919  2.172725   \n",
       "           CML.MI            0.000198  56.316944  1.481689  1.506552   \n",
       "           VNT.MI            0.000770  54.350291  1.195978  1.226158   \n",
       "           PHIL.MI           0.000061  45.963677  2.885115  2.934745   \n",
       "\n",
       "                      bb_high       atr      macd  adj close  \n",
       "date       ticker                                             \n",
       "2006-12-31 A2A.MI    0.760511  1.332018  1.332018   1.126131  \n",
       "           ACE.MI    2.078401 -0.373498 -0.373498   6.715508  \n",
       "           AMP.MI    1.906952 -0.546965 -0.546965   5.617353  \n",
       "           ARN.MI    1.542697 -0.413924 -0.413924   3.551322  \n",
       "           AUTME.MI  1.503973 -0.837413 -0.837413   3.310748  \n",
       "...                       ...       ...       ...        ...  \n",
       "2024-01-31 GVS.MI    1.902883 -1.439567 -1.439567   5.360000  \n",
       "           CY4.MI    2.245530 -1.384139 -1.384139   7.460000  \n",
       "           CML.MI    1.531416 -0.521103 -0.521103   3.550000  \n",
       "           VNT.MI    1.256338 -1.319141 -1.319141   2.400000  \n",
       "           PHIL.MI   2.984376  0.218903  0.218903  17.500000  \n",
       "\n",
       "[29181 rows x 8 columns]"
      ]
     },
     "execution_count": 8,
     "metadata": {},
     "output_type": "execute_result"
    }
   ],
   "source": [
    "data = cut_low_volume(data, window = 5, min_years = 1, threshold = 150)\n",
    "data"
   ]
  },
  {
   "cell_type": "code",
   "execution_count": 9,
   "metadata": {
    "pycharm": {
     "name": "#%%\n"
    }
   },
   "outputs": [
    {
     "data": {
      "text/html": [
       "<div>\n",
       "<style scoped>\n",
       "    .dataframe tbody tr th:only-of-type {\n",
       "        vertical-align: middle;\n",
       "    }\n",
       "\n",
       "    .dataframe tbody tr th {\n",
       "        vertical-align: top;\n",
       "    }\n",
       "\n",
       "    .dataframe thead th {\n",
       "        text-align: right;\n",
       "    }\n",
       "</style>\n",
       "<table border=\"1\" class=\"dataframe\">\n",
       "  <thead>\n",
       "    <tr style=\"text-align: right;\">\n",
       "      <th></th>\n",
       "      <th></th>\n",
       "      <th>garman_klass_vol</th>\n",
       "      <th>rsi</th>\n",
       "      <th>bb_low</th>\n",
       "      <th>bb_mid</th>\n",
       "      <th>bb_high</th>\n",
       "      <th>atr</th>\n",
       "      <th>macd</th>\n",
       "      <th>adj close</th>\n",
       "      <th>return_1m</th>\n",
       "      <th>return_2m</th>\n",
       "      <th>return_3m</th>\n",
       "      <th>return_6m</th>\n",
       "      <th>return_9m</th>\n",
       "      <th>return_12m</th>\n",
       "    </tr>\n",
       "    <tr>\n",
       "      <th>date</th>\n",
       "      <th>ticker</th>\n",
       "      <th></th>\n",
       "      <th></th>\n",
       "      <th></th>\n",
       "      <th></th>\n",
       "      <th></th>\n",
       "      <th></th>\n",
       "      <th></th>\n",
       "      <th></th>\n",
       "      <th></th>\n",
       "      <th></th>\n",
       "      <th></th>\n",
       "      <th></th>\n",
       "      <th></th>\n",
       "      <th></th>\n",
       "    </tr>\n",
       "  </thead>\n",
       "  <tbody>\n",
       "    <tr>\n",
       "      <th rowspan=\"5\" valign=\"top\">2007-12-31</th>\n",
       "      <th>A2A.MI</th>\n",
       "      <td>-0.217184</td>\n",
       "      <td>66.221506</td>\n",
       "      <td>0.822562</td>\n",
       "      <td>0.856298</td>\n",
       "      <td>0.890035</td>\n",
       "      <td>2.364503</td>\n",
       "      <td>2.364503</td>\n",
       "      <td>1.429666</td>\n",
       "      <td>0.093206</td>\n",
       "      <td>0.039247</td>\n",
       "      <td>0.061251</td>\n",
       "      <td>0.023615</td>\n",
       "      <td>0.019590</td>\n",
       "      <td>0.020087</td>\n",
       "    </tr>\n",
       "    <tr>\n",
       "      <th>ACE.MI</th>\n",
       "      <td>-0.202293</td>\n",
       "      <td>62.015085</td>\n",
       "      <td>1.976223</td>\n",
       "      <td>2.016733</td>\n",
       "      <td>2.057243</td>\n",
       "      <td>0.600564</td>\n",
       "      <td>0.600564</td>\n",
       "      <td>6.792621</td>\n",
       "      <td>0.066717</td>\n",
       "      <td>0.019904</td>\n",
       "      <td>0.009793</td>\n",
       "      <td>-0.006860</td>\n",
       "      <td>0.005412</td>\n",
       "      <td>0.000952</td>\n",
       "    </tr>\n",
       "    <tr>\n",
       "      <th>AMP.MI</th>\n",
       "      <td>-0.003942</td>\n",
       "      <td>28.554065</td>\n",
       "      <td>1.383680</td>\n",
       "      <td>1.442402</td>\n",
       "      <td>1.501123</td>\n",
       "      <td>-0.634718</td>\n",
       "      <td>-0.634718</td>\n",
       "      <td>3.060889</td>\n",
       "      <td>-0.107326</td>\n",
       "      <td>-0.229521</td>\n",
       "      <td>-0.144961</td>\n",
       "      <td>-0.091358</td>\n",
       "      <td>-0.073383</td>\n",
       "      <td>-0.049338</td>\n",
       "    </tr>\n",
       "    <tr>\n",
       "      <th>ARN.MI</th>\n",
       "      <td>-0.029395</td>\n",
       "      <td>54.139405</td>\n",
       "      <td>1.775554</td>\n",
       "      <td>1.826930</td>\n",
       "      <td>1.878306</td>\n",
       "      <td>-0.224337</td>\n",
       "      <td>-0.224337</td>\n",
       "      <td>5.297202</td>\n",
       "      <td>0.055638</td>\n",
       "      <td>-0.021756</td>\n",
       "      <td>0.031122</td>\n",
       "      <td>-0.003471</td>\n",
       "      <td>0.000391</td>\n",
       "      <td>0.033883</td>\n",
       "    </tr>\n",
       "    <tr>\n",
       "      <th>AUTME.MI</th>\n",
       "      <td>-1.944626</td>\n",
       "      <td>46.030540</td>\n",
       "      <td>1.124717</td>\n",
       "      <td>1.178711</td>\n",
       "      <td>1.232706</td>\n",
       "      <td>-0.559242</td>\n",
       "      <td>-0.559242</td>\n",
       "      <td>2.285778</td>\n",
       "      <td>0.082915</td>\n",
       "      <td>-0.061560</td>\n",
       "      <td>-0.021472</td>\n",
       "      <td>-0.053644</td>\n",
       "      <td>-0.044245</td>\n",
       "      <td>-0.030401</td>\n",
       "    </tr>\n",
       "    <tr>\n",
       "      <th>...</th>\n",
       "      <th>...</th>\n",
       "      <td>...</td>\n",
       "      <td>...</td>\n",
       "      <td>...</td>\n",
       "      <td>...</td>\n",
       "      <td>...</td>\n",
       "      <td>...</td>\n",
       "      <td>...</td>\n",
       "      <td>...</td>\n",
       "      <td>...</td>\n",
       "      <td>...</td>\n",
       "      <td>...</td>\n",
       "      <td>...</td>\n",
       "      <td>...</td>\n",
       "      <td>...</td>\n",
       "    </tr>\n",
       "    <tr>\n",
       "      <th rowspan=\"5\" valign=\"top\">2024-01-31</th>\n",
       "      <th>GVS.MI</th>\n",
       "      <td>0.000427</td>\n",
       "      <td>50.741327</td>\n",
       "      <td>1.816812</td>\n",
       "      <td>1.859848</td>\n",
       "      <td>1.902883</td>\n",
       "      <td>-1.439567</td>\n",
       "      <td>-1.439567</td>\n",
       "      <td>5.360000</td>\n",
       "      <td>-0.038565</td>\n",
       "      <td>-0.022971</td>\n",
       "      <td>0.082973</td>\n",
       "      <td>-0.012352</td>\n",
       "      <td>-0.015604</td>\n",
       "      <td>0.008436</td>\n",
       "    </tr>\n",
       "    <tr>\n",
       "      <th>CY4.MI</th>\n",
       "      <td>0.000010</td>\n",
       "      <td>40.534355</td>\n",
       "      <td>2.099919</td>\n",
       "      <td>2.172725</td>\n",
       "      <td>2.245530</td>\n",
       "      <td>-1.384139</td>\n",
       "      <td>-1.384139</td>\n",
       "      <td>7.460000</td>\n",
       "      <td>-0.088020</td>\n",
       "      <td>-0.033130</td>\n",
       "      <td>0.009100</td>\n",
       "      <td>-0.013218</td>\n",
       "      <td>-0.016815</td>\n",
       "      <td>-0.018555</td>\n",
       "    </tr>\n",
       "    <tr>\n",
       "      <th>CML.MI</th>\n",
       "      <td>0.000198</td>\n",
       "      <td>56.316944</td>\n",
       "      <td>1.481689</td>\n",
       "      <td>1.506552</td>\n",
       "      <td>1.531416</td>\n",
       "      <td>-0.521103</td>\n",
       "      <td>-0.521103</td>\n",
       "      <td>3.550000</td>\n",
       "      <td>0.031977</td>\n",
       "      <td>0.034059</td>\n",
       "      <td>0.016492</td>\n",
       "      <td>-0.001866</td>\n",
       "      <td>-0.003687</td>\n",
       "      <td>0.020267</td>\n",
       "    </tr>\n",
       "    <tr>\n",
       "      <th>VNT.MI</th>\n",
       "      <td>0.000770</td>\n",
       "      <td>54.350291</td>\n",
       "      <td>1.195978</td>\n",
       "      <td>1.226158</td>\n",
       "      <td>1.256338</td>\n",
       "      <td>-1.319141</td>\n",
       "      <td>-1.319141</td>\n",
       "      <td>2.400000</td>\n",
       "      <td>-0.040000</td>\n",
       "      <td>0.084652</td>\n",
       "      <td>0.091525</td>\n",
       "      <td>-0.018832</td>\n",
       "      <td>-0.035683</td>\n",
       "      <td>-0.053489</td>\n",
       "    </tr>\n",
       "    <tr>\n",
       "      <th>PHIL.MI</th>\n",
       "      <td>0.000061</td>\n",
       "      <td>45.963677</td>\n",
       "      <td>2.885115</td>\n",
       "      <td>2.934745</td>\n",
       "      <td>2.984376</td>\n",
       "      <td>0.218903</td>\n",
       "      <td>0.218903</td>\n",
       "      <td>17.500000</td>\n",
       "      <td>-0.054054</td>\n",
       "      <td>-0.023435</td>\n",
       "      <td>0.001912</td>\n",
       "      <td>0.015047</td>\n",
       "      <td>0.019177</td>\n",
       "      <td>0.013834</td>\n",
       "    </tr>\n",
       "  </tbody>\n",
       "</table>\n",
       "<p>26516 rows × 14 columns</p>\n",
       "</div>"
      ],
      "text/plain": [
       "                     garman_klass_vol        rsi    bb_low    bb_mid  \\\n",
       "date       ticker                                                      \n",
       "2007-12-31 A2A.MI           -0.217184  66.221506  0.822562  0.856298   \n",
       "           ACE.MI           -0.202293  62.015085  1.976223  2.016733   \n",
       "           AMP.MI           -0.003942  28.554065  1.383680  1.442402   \n",
       "           ARN.MI           -0.029395  54.139405  1.775554  1.826930   \n",
       "           AUTME.MI         -1.944626  46.030540  1.124717  1.178711   \n",
       "...                               ...        ...       ...       ...   \n",
       "2024-01-31 GVS.MI            0.000427  50.741327  1.816812  1.859848   \n",
       "           CY4.MI            0.000010  40.534355  2.099919  2.172725   \n",
       "           CML.MI            0.000198  56.316944  1.481689  1.506552   \n",
       "           VNT.MI            0.000770  54.350291  1.195978  1.226158   \n",
       "           PHIL.MI           0.000061  45.963677  2.885115  2.934745   \n",
       "\n",
       "                      bb_high       atr      macd  adj close  return_1m  \\\n",
       "date       ticker                                                         \n",
       "2007-12-31 A2A.MI    0.890035  2.364503  2.364503   1.429666   0.093206   \n",
       "           ACE.MI    2.057243  0.600564  0.600564   6.792621   0.066717   \n",
       "           AMP.MI    1.501123 -0.634718 -0.634718   3.060889  -0.107326   \n",
       "           ARN.MI    1.878306 -0.224337 -0.224337   5.297202   0.055638   \n",
       "           AUTME.MI  1.232706 -0.559242 -0.559242   2.285778   0.082915   \n",
       "...                       ...       ...       ...        ...        ...   \n",
       "2024-01-31 GVS.MI    1.902883 -1.439567 -1.439567   5.360000  -0.038565   \n",
       "           CY4.MI    2.245530 -1.384139 -1.384139   7.460000  -0.088020   \n",
       "           CML.MI    1.531416 -0.521103 -0.521103   3.550000   0.031977   \n",
       "           VNT.MI    1.256338 -1.319141 -1.319141   2.400000  -0.040000   \n",
       "           PHIL.MI   2.984376  0.218903  0.218903  17.500000  -0.054054   \n",
       "\n",
       "                     return_2m  return_3m  return_6m  return_9m  return_12m  \n",
       "date       ticker                                                            \n",
       "2007-12-31 A2A.MI     0.039247   0.061251   0.023615   0.019590    0.020087  \n",
       "           ACE.MI     0.019904   0.009793  -0.006860   0.005412    0.000952  \n",
       "           AMP.MI    -0.229521  -0.144961  -0.091358  -0.073383   -0.049338  \n",
       "           ARN.MI    -0.021756   0.031122  -0.003471   0.000391    0.033883  \n",
       "           AUTME.MI  -0.061560  -0.021472  -0.053644  -0.044245   -0.030401  \n",
       "...                        ...        ...        ...        ...         ...  \n",
       "2024-01-31 GVS.MI    -0.022971   0.082973  -0.012352  -0.015604    0.008436  \n",
       "           CY4.MI    -0.033130   0.009100  -0.013218  -0.016815   -0.018555  \n",
       "           CML.MI     0.034059   0.016492  -0.001866  -0.003687    0.020267  \n",
       "           VNT.MI     0.084652   0.091525  -0.018832  -0.035683   -0.053489  \n",
       "           PHIL.MI   -0.023435   0.001912   0.015047   0.019177    0.013834  \n",
       "\n",
       "[26516 rows x 14 columns]"
      ]
     },
     "execution_count": 9,
     "metadata": {},
     "output_type": "execute_result"
    }
   ],
   "source": [
    "data = aggregate_returns(data, outlier_cutoff= 0.005,\n",
    "                         lags= [1, 2, 3, 6, 9, 12])\n",
    "data"
   ]
  },
  {
   "cell_type": "code",
   "execution_count": 10,
   "metadata": {
    "pycharm": {
     "name": "#%%\n"
    }
   },
   "outputs": [
    {
     "data": {
      "text/html": [
       "<div>\n",
       "<style scoped>\n",
       "    .dataframe tbody tr th:only-of-type {\n",
       "        vertical-align: middle;\n",
       "    }\n",
       "\n",
       "    .dataframe tbody tr th {\n",
       "        vertical-align: top;\n",
       "    }\n",
       "\n",
       "    .dataframe thead th {\n",
       "        text-align: right;\n",
       "    }\n",
       "</style>\n",
       "<table border=\"1\" class=\"dataframe\">\n",
       "  <thead>\n",
       "    <tr style=\"text-align: right;\">\n",
       "      <th></th>\n",
       "      <th></th>\n",
       "      <th>Mkt-RF</th>\n",
       "      <th>SMB</th>\n",
       "      <th>HML</th>\n",
       "    </tr>\n",
       "    <tr>\n",
       "      <th>date</th>\n",
       "      <th>ticker</th>\n",
       "      <th></th>\n",
       "      <th></th>\n",
       "      <th></th>\n",
       "    </tr>\n",
       "  </thead>\n",
       "  <tbody>\n",
       "    <tr>\n",
       "      <th rowspan=\"5\" valign=\"top\">2010-01-31</th>\n",
       "      <th>A2A.MI</th>\n",
       "      <td>NaN</td>\n",
       "      <td>NaN</td>\n",
       "      <td>NaN</td>\n",
       "    </tr>\n",
       "    <tr>\n",
       "      <th>ACE.MI</th>\n",
       "      <td>NaN</td>\n",
       "      <td>NaN</td>\n",
       "      <td>NaN</td>\n",
       "    </tr>\n",
       "    <tr>\n",
       "      <th>AEF.MI</th>\n",
       "      <td>NaN</td>\n",
       "      <td>NaN</td>\n",
       "      <td>NaN</td>\n",
       "    </tr>\n",
       "    <tr>\n",
       "      <th>AMP.MI</th>\n",
       "      <td>NaN</td>\n",
       "      <td>NaN</td>\n",
       "      <td>NaN</td>\n",
       "    </tr>\n",
       "    <tr>\n",
       "      <th>ARN.MI</th>\n",
       "      <td>NaN</td>\n",
       "      <td>NaN</td>\n",
       "      <td>NaN</td>\n",
       "    </tr>\n",
       "    <tr>\n",
       "      <th>...</th>\n",
       "      <th>...</th>\n",
       "      <td>...</td>\n",
       "      <td>...</td>\n",
       "      <td>...</td>\n",
       "    </tr>\n",
       "    <tr>\n",
       "      <th rowspan=\"5\" valign=\"top\">2023-11-30</th>\n",
       "      <th>VNT.MI</th>\n",
       "      <td>-0.427542</td>\n",
       "      <td>3.573862</td>\n",
       "      <td>-0.368535</td>\n",
       "    </tr>\n",
       "    <tr>\n",
       "      <th>WBD.MI</th>\n",
       "      <td>1.034909</td>\n",
       "      <td>-0.812280</td>\n",
       "      <td>-0.246662</td>\n",
       "    </tr>\n",
       "    <tr>\n",
       "      <th>WIIT.MI</th>\n",
       "      <td>1.748119</td>\n",
       "      <td>0.018436</td>\n",
       "      <td>-0.079110</td>\n",
       "    </tr>\n",
       "    <tr>\n",
       "      <th>XPR.MI</th>\n",
       "      <td>1.122584</td>\n",
       "      <td>-0.202980</td>\n",
       "      <td>0.275175</td>\n",
       "    </tr>\n",
       "    <tr>\n",
       "      <th>ZV.MI</th>\n",
       "      <td>0.902701</td>\n",
       "      <td>0.444483</td>\n",
       "      <td>0.387155</td>\n",
       "    </tr>\n",
       "  </tbody>\n",
       "</table>\n",
       "<p>23246 rows × 3 columns</p>\n",
       "</div>"
      ],
      "text/plain": [
       "                      Mkt-RF       SMB       HML\n",
       "date       ticker                               \n",
       "2010-01-31 A2A.MI        NaN       NaN       NaN\n",
       "           ACE.MI        NaN       NaN       NaN\n",
       "           AEF.MI        NaN       NaN       NaN\n",
       "           AMP.MI        NaN       NaN       NaN\n",
       "           ARN.MI        NaN       NaN       NaN\n",
       "...                      ...       ...       ...\n",
       "2023-11-30 VNT.MI  -0.427542  3.573862 -0.368535\n",
       "           WBD.MI   1.034909 -0.812280 -0.246662\n",
       "           WIIT.MI  1.748119  0.018436 -0.079110\n",
       "           XPR.MI   1.122584 -0.202980  0.275175\n",
       "           ZV.MI    0.902701  0.444483  0.387155\n",
       "\n",
       "[23246 rows x 3 columns]"
      ]
     },
     "execution_count": 10,
     "metadata": {},
     "output_type": "execute_result"
    }
   ],
   "source": [
    "betas = get_famafrench_factors(data)\n",
    "betas"
   ]
  },
  {
   "cell_type": "code",
   "execution_count": 11,
   "metadata": {
    "pycharm": {
     "name": "#%%\n"
    }
   },
   "outputs": [
    {
     "name": "stdout",
     "output_type": "stream",
     "text": [
      "<class 'pandas.core.frame.DataFrame'>\n",
      "MultiIndex: 26181 entries, (Timestamp('2007-12-31 00:00:00'), 'A2A.MI') to (Timestamp('2024-01-31 00:00:00'), 'SCF.MI')\n",
      "Data columns (total 16 columns):\n",
      " #   Column            Non-Null Count  Dtype  \n",
      "---  ------            --------------  -----  \n",
      " 0   garman_klass_vol  26181 non-null  float64\n",
      " 1   rsi               26181 non-null  float64\n",
      " 2   bb_low            26181 non-null  float64\n",
      " 3   bb_mid            26181 non-null  float64\n",
      " 4   bb_high           26181 non-null  float64\n",
      " 5   atr               26181 non-null  float64\n",
      " 6   macd              26181 non-null  float64\n",
      " 7   return_1m         26181 non-null  float64\n",
      " 8   return_2m         26181 non-null  float64\n",
      " 9   return_3m         26181 non-null  float64\n",
      " 10  return_6m         26181 non-null  float64\n",
      " 11  return_9m         26181 non-null  float64\n",
      " 12  return_12m        26181 non-null  float64\n",
      " 13  Mkt-RF            26181 non-null  float64\n",
      " 14  SMB               26181 non-null  float64\n",
      " 15  HML               26181 non-null  float64\n",
      "dtypes: float64(16)\n",
      "memory usage: 3.3+ MB\n"
     ]
    }
   ],
   "source": [
    "ff_factors = ['Mkt-RF', 'SMB', 'HML']\n",
    "\n",
    "# we merge the previously dataset with the one that we have for the betas factors.\n",
    "\n",
    "data = (data.join(betas.groupby('ticker').shift()))\n",
    "\n",
    "data.loc[:, ff_factors] = data.groupby('ticker', group_keys=False)[ff_factors].apply(lambda x: x.fillna(x.mean()))\n",
    "\n",
    "data = data.drop('adj close', axis=1)\n",
    "\n",
    "feature_data = data.dropna()\n",
    "\n",
    "feature_data.info()"
   ]
  },
  {
   "cell_type": "markdown",
   "metadata": {},
   "source": [
    "### Train validation split "
   ]
  },
  {
   "cell_type": "code",
   "execution_count": 12,
   "metadata": {},
   "outputs": [],
   "source": [
    "data_train = feature_data.loc[(slice(start_date_train, end_date_train), slice(None)), :]\n",
    "\n",
    "data_validation = feature_data.loc[(slice(start_date_validation, None), slice(None)), :]"
   ]
  },
  {
   "cell_type": "markdown",
   "metadata": {
    "pycharm": {
     "name": "#%% md\n"
    }
   },
   "source": [
    "# Training"
   ]
  },
  {
   "cell_type": "markdown",
   "metadata": {
    "pycharm": {
     "name": "#%% md\n"
    }
   },
   "source": [
    "## Clustering methods"
   ]
  },
  {
   "cell_type": "markdown",
   "metadata": {
    "pycharm": {
     "name": "#%% md\n"
    }
   },
   "source": [
    "We will fit a clustering scheme for each month and get the right stocks that we want.\n",
    "\n",
    "Totally unsupervised problem.\n",
    "\n",
    "Best number of clusters = 3. \n",
    "\n",
    "I will choose to take the clusters where the centroid of that is higher in rsi and lower in atr."
   ]
  },
  {
   "cell_type": "code",
   "execution_count": 13,
   "metadata": {
    "pycharm": {
     "name": "#%%\n"
    }
   },
   "outputs": [],
   "source": [
    "best_rsi_data_M_km_train = data_train.copy().dropna().groupby('date', \n",
    "                                                        group_keys=False).apply(lambda df: kmeans_best_rsi(df, 3))\n",
    "\n",
    "chosen_stocks_km_train = list_monthly_stocks(best_rsi_data_M_km_train)"
   ]
  },
  {
   "cell_type": "code",
   "execution_count": 14,
   "metadata": {
    "pycharm": {
     "name": "#%%\n"
    }
   },
   "outputs": [],
   "source": [
    "best_rsi_data_M_db_train = data_train.copy().dropna().groupby('date',\n",
    "                                                       group_keys = False).apply(lambda df: dbscan_best_rsi(df))\n",
    "\n",
    "chosen_stocks_db_train = list_monthly_stocks(best_rsi_data_M_db_train)"
   ]
  },
  {
   "cell_type": "markdown",
   "metadata": {
    "pycharm": {
     "name": "#%% md\n"
    }
   },
   "source": [
    "Download all the prices for the stocks that are in our portfolio.\n",
    "\n",
    "For the optimization portfolio we need at least one year of previous data.\n",
    "\n"
   ]
  },
  {
   "cell_type": "code",
   "execution_count": 15,
   "metadata": {
    "pycharm": {
     "name": "#%%\n"
    }
   },
   "outputs": [
    {
     "name": "stdout",
     "output_type": "stream",
     "text": [
      "[*********************100%%**********************]  146 of 146 completed\n",
      "[*********************100%%**********************]  139 of 139 completed\n"
     ]
    }
   ],
   "source": [
    "stocks = list(np.unique([s for stocks_list in chosen_stocks_km_train.values() for s in stocks_list]))\n",
    "stocks_db = list(np.unique([s for stocks_list in chosen_stocks_db_train.values() for s in stocks_list]))\n",
    "\n",
    "start_date = data_train.index.get_level_values('date').unique()[0] - pd.DateOffset(months=12)\n",
    "end_date = data_train.index.get_level_values('date').unique()[-1]\n",
    "\n",
    "new_df_k_means_train = yf.download(tickers = stocks, start = start_date, end = end_date)\n",
    "new_df_db_train = yf.download(tickers = stocks_db, start = start_date, end = end_date)"
   ]
  },
  {
   "cell_type": "markdown",
   "metadata": {
    "pycharm": {
     "name": "#%% md\n"
    }
   },
   "source": [
    "We need then to calculate all the daily returns for each stocks form the data we have downloaded.\n",
    "\n",
    "Then for each month we select the stocks of the month and calculate the weights for the next month.\n",
    "\n",
    "If the maximum sharpe ratio fails to assign the weights for a given month, we apply equally weighted weights.\n",
    "\n",
    "Then we calculate for each day the porfolio return."
   ]
  },
  {
   "cell_type": "markdown",
   "metadata": {
    "pycharm": {
     "name": "#%% md\n"
    }
   },
   "source": [
    "#### Base strategy"
   ]
  },
  {
   "cell_type": "code",
   "execution_count": 16,
   "metadata": {},
   "outputs": [],
   "source": [
    "p_train_results = []"
   ]
  },
  {
   "cell_type": "code",
   "execution_count": 17,
   "metadata": {
    "pycharm": {
     "name": "#%%\n"
    }
   },
   "outputs": [],
   "source": [
    "p_km_train = daily_portfolio_return(chosen_stocks_km_train,\n",
    "                                    new_df_k_means_train, \n",
    "                                    stop_loss = False)\n",
    "\n",
    "p_db_train = daily_portfolio_return(chosen_stocks_db_train,\n",
    "                                    new_df_db_train, \n",
    "                                    stop_loss = False)\n",
    "\n",
    "p_train_results.append(p_km_train)\n",
    "p_train_results.append(p_db_train)"
   ]
  },
  {
   "cell_type": "code",
   "execution_count": 18,
   "metadata": {
    "collapsed": false,
    "pycharm": {
     "name": "#%%\n"
    }
   },
   "outputs": [
    {
     "name": "stdout",
     "output_type": "stream",
     "text": [
      "Number of times the filter has been used:  30\n",
      "Number of times the filter has been used:  28\n"
     ]
    }
   ],
   "source": [
    "p_km_reg_train = daily_portfolio_return(chosen_stocks_km_train,\n",
    "                                                    new_df_k_means_train, \n",
    "                                                    off_set_days = 14, \n",
    "                                                    stop_loss = True)\n",
    "\n",
    "p_db_reg_train = daily_portfolio_return(chosen_stocks_db_train,\n",
    "                                                    new_df_db_train, \n",
    "                                                    off_set_days = 14, \n",
    "                                                    stop_loss = True)\n",
    "\n",
    "p_train_results.append(p_km_reg_train)\n",
    "p_train_results.append(p_db_reg_train)"
   ]
  },
  {
   "cell_type": "code",
   "execution_count": 19,
   "metadata": {
    "pycharm": {
     "name": "#%%\n"
    }
   },
   "outputs": [],
   "source": [
    "p_km_ARIMA_train = daily_portfolio_return(chosen_stocks_km_train,\n",
    "                                                new_df_k_means_train, \n",
    "                                                off_set_days = 14, \n",
    "                                                stop_loss = True, \n",
    "                                                mode = 'Arima')\n",
    "\n",
    "p_db_ARIMA_train = daily_portfolio_return(chosen_stocks_db_train,\n",
    "                                          new_df_db_train, \n",
    "                                          off_set_days = 14,\n",
    "                                          stop_loss = True,\n",
    "                                          mode = 'Arima')\n",
    "\n",
    "p_train_results.append(p_km_ARIMA_train)\n",
    "p_train_results.append(p_db_ARIMA_train)"
   ]
  },
  {
   "cell_type": "markdown",
   "metadata": {
    "pycharm": {
     "name": "#%% md\n"
    }
   },
   "source": [
    "### Plot of the results"
   ]
  },
  {
   "cell_type": "code",
   "execution_count": null,
   "metadata": {
    "pycharm": {
     "name": "#%%\n"
    }
   },
   "outputs": [
    {
     "name": "stderr",
     "output_type": "stream",
     "text": [
      "[*********************100%%**********************]  1 of 1 completed\n"
     ]
    }
   ],
   "source": [
    "mib = yf.download(tickers='FTSEMIB.MI',\n",
    "                  start=start_date_train,\n",
    "                  end=end_date_train)\n",
    "\n",
    "mib_ret = np.log(mib[['Adj Close']]).diff().dropna().rename({'Adj Close':'FTSEMIB.MI'}, axis=1)\n",
    "\n",
    "p_train_results.append(mib_ret)\n",
    "\n",
    "\n",
    "result_training = pd.concat(p_train_results, axis=1)\n",
    "\n",
    "\n",
    "result_training.columns = ['KM base',\n",
    "                         'DB base',\n",
    "                         'KM reg',\n",
    "                         \"'DB reg'\",\n",
    "                         'KM Arima',\n",
    "                         'DB Arima',\n",
    "                         'FTSE_MIB',]\n",
    "\n"
   ]
  },
  {
   "cell_type": "code",
   "execution_count": null,
   "metadata": {
    "pycharm": {
     "name": "#%%\n"
    }
   },
   "outputs": [
    {
     "data": {
      "image/png": "[encoded data removed]",
      "text/plain": [
       "<Figure size 1600x600 with 1 Axes>"
      ]
     },
     "metadata": {},
     "output_type": "display_data"
    }
   ],
   "source": [
    "plot_portfolio_cumulative_return(result_training)"
   ]
  },
  {
   "cell_type": "markdown",
   "metadata": {},
   "source": [
    "### Quantitative Evaluation over the training set"
   ]
  },
  {
   "cell_type": "code",
   "execution_count": null,
   "metadata": {},
   "outputs": [],
   "source": [
    "for return_strategy, name in zip(p_train_results,result_training.columns):\n",
    "    print(\"Results obtained using\", name,\" : \")\n",
    "    print(\"Volatility    : \", np.round(float(calculate_volatility(return_strategy)),5))\n",
    "    print(\"Sharpe ratio : \", np.round(float(calculate_sharpe_ratio(return_strategy)),5))"
   ]
  },
  {
   "cell_type": "markdown",
   "metadata": {
    "pycharm": {
     "name": "#%% md\n"
    }
   },
   "source": [
    "## Validation"
   ]
  },
  {
   "cell_type": "code",
   "execution_count": null,
   "metadata": {
    "pycharm": {
     "name": "#%%\n"
    }
   },
   "outputs": [],
   "source": [
    "best_rsi_data_M_km_val = data_validation.copy().dropna().groupby('date', \n",
    "                                                             group_keys=False).apply(lambda df: kmeans_best_rsi(df, 3))\n",
    "chosen_stocks_km_val = list_monthly_stocks(best_rsi_data_M_km_val)"
   ]
  },
  {
   "cell_type": "code",
   "execution_count": null,
   "metadata": {
    "pycharm": {
     "name": "#%%\n"
    }
   },
   "outputs": [],
   "source": [
    "best_rsi_data_M_db_val =data_validation.copy().dropna().groupby('date',\n",
    "                                                                group_keys = False).apply(lambda df: dbscan_best_rsi(df))\n",
    "chosen_stocks_db_val = list_monthly_stocks(best_rsi_data_M_db_val)"
   ]
  },
  {
   "cell_type": "code",
   "execution_count": null,
   "metadata": {
    "pycharm": {
     "name": "#%%\n"
    }
   },
   "outputs": [
    {
     "name": "stderr",
     "output_type": "stream",
     "text": [
      "[*********************100%%**********************]  181 of 181 completed\n",
      "[*********************100%%**********************]  81 of 81 completed\n"
     ]
    }
   ],
   "source": [
    "stocks_km_val = list(np.unique([s for stocks_list in chosen_stocks_km_val.values() for s in stocks_list]))\n",
    "stocks_db_val = list(np.unique([s for stocks_list in chosen_stocks_db_val.values() for s in stocks_list]))\n",
    "\n",
    "start_date_val = data_validation.index.get_level_values('date').unique()[0] - pd.DateOffset(months=12)\n",
    "end_date_val = data_validation.index.get_level_values('date').unique()[-1]\n",
    "\n",
    "new_df_k_means_val = yf.download(tickers = stocks_km_val,\n",
    "                             start = start_date_val, \n",
    "                             end = end_date_val)\n",
    "\n",
    "\n",
    "new_df_db_val = yf.download(tickers = stocks_db_val,\n",
    "                        start = start_date_val, \n",
    "                        end = end_date_val)"
   ]
  },
  {
   "cell_type": "code",
   "execution_count": null,
   "metadata": {},
   "outputs": [],
   "source": [
    "p_val_results = []"
   ]
  },
  {
   "cell_type": "code",
   "execution_count": null,
   "metadata": {
    "pycharm": {
     "name": "#%%\n"
    }
   },
   "outputs": [],
   "source": [
    "p_km_val = daily_portfolio_return(chosen_stocks_km_val,\n",
    "                                         new_df_k_means_val, \n",
    "                                         stop_loss = False)\n",
    "\n",
    "p_db_val = daily_portfolio_return(chosen_stocks_db_val,\n",
    "                                         new_df_db_val, \n",
    "                                         stop_loss = False)\n",
    "\n",
    "p_val_results.append(p_km_val)\n",
    "p_val_results.append(p_db_val)"
   ]
  },
  {
   "cell_type": "code",
   "execution_count": null,
   "metadata": {
    "pycharm": {
     "name": "#%%\n"
    }
   },
   "outputs": [
    {
     "name": "stdout",
     "output_type": "stream",
     "text": [
      "Number of times the filter has been used:  21\n",
      "Number of times the filter has been used:  28\n"
     ]
    }
   ],
   "source": [
    "p_km_reg_val = daily_portfolio_return(chosen_stocks_km_val,\n",
    "                                      new_df_k_means_val, \n",
    "                                      off_set_days = 14, \n",
    "                                      stop_loss = True)\n",
    "\n",
    "p_db_reg_val = daily_portfolio_return(chosen_stocks_db_val,\n",
    "                                      new_df_db_val, \n",
    "                                      off_set_days = 14,\n",
    "                                      stop_loss = True)\n",
    "\n",
    "p_val_results.append(p_km_reg_val)\n",
    "p_val_results.append(p_db_reg_val)"
   ]
  },
  {
   "cell_type": "code",
   "execution_count": null,
   "metadata": {
    "pycharm": {
     "name": "#%%\n"
    }
   },
   "outputs": [
    {
     "name": "stdout",
     "output_type": "stream",
     "text": [
      "Number of times the filter has been used:  35\n",
      "Number of times the filter has been used:  45\n"
     ]
    }
   ],
   "source": [
    "p_km_ARIMA_val = daily_portfolio_return(chosen_stocks_km_val,\n",
    "                                        new_df_k_means_val,\n",
    "                                        off_set_days = 14,\n",
    "                                        stop_loss = True,\n",
    "                                        mode = 'Arima')\n",
    "\n",
    "p_db_ARIMA_val = daily_portfolio_return(chosen_stocks_db_val,\n",
    "                                        new_df_db_val,\n",
    "                                        off_set_days = 14,\n",
    "                                        stop_loss = True,\n",
    "                                        mode = 'Arima')\n",
    "\n",
    "p_val_results.append(p_km_ARIMA_val)\n",
    "p_val_results.append(p_db_ARIMA_val)"
   ]
  },
  {
   "cell_type": "code",
   "execution_count": null,
   "metadata": {},
   "outputs": [],
   "source": [
    "mib = yf.download(tickers='FTSEMIB.MI',\n",
    "                  start = start_date_validation,\n",
    "                  end = end_date_validation)\n",
    "\n",
    "mib_ret = np.log(mib[['Adj Close']]).diff().dropna().rename({'Adj Close':'FTSEMIB.MI'}, axis=1)\n",
    "\n",
    "p_val_results.append(mib_ret)\n",
    "\n",
    "\n",
    "result_validation = pd.concat(p_val_results, axis=1)\n",
    "\n",
    "\n",
    "result_validation.columns = ['KM base',\n",
    "                         'DB base',\n",
    "                         'KM reg',\n",
    "                         \"'DB reg'\",\n",
    "                         'KM Arima',\n",
    "                         'DB Arima',\n",
    "                         'FTSE_MIB',]"
   ]
  },
  {
   "cell_type": "code",
   "execution_count": null,
   "metadata": {},
   "outputs": [],
   "source": [
    "plot_portfolio_cumulative_return(result_training)"
   ]
  },
  {
   "cell_type": "code",
   "execution_count": null,
   "metadata": {},
   "outputs": [],
   "source": [
    "for return_strategy, name in zip(p_val_results,result_validation.columns):\n",
    "    print(\"Results obtained using\", name,\" : \")\n",
    "    print(\"Volatility    : \", float(calculate_volatility(return_strategy)))\n",
    "    print(\"Sharpe ratio : \", float(calculate_sharpe_ratio(return_strategy)))"
   ]
  }
 ],
 "metadata": {
  "kernelspec": {
   "display_name": "Python 3",
   "language": "python",
   "name": "python3"
  },
  "language_info": {
   "codemirror_mode": {
    "name": "ipython",
    "version": 3
   },
   "file_extension": ".py",
   "mimetype": "text/x-python",
   "name": "python",
   "nbconvert_exporter": "python",
   "pygments_lexer": "ipython3",
   "version": "3.11.1"
  }
 },
 "nbformat": 4,
 "nbformat_minor": 2
}
